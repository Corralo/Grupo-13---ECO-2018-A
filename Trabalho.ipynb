{
 "cells": [
  {
   "cell_type": "markdown",
   "metadata": {},
   "source": [
    "1. O trabalho consiste em escrever um aplicativo em Python que colete dados de pelo menos duas variáveis econômicas para as quais faça algum sentido investigar a relação entre elas;\n",
    "\n",
    "2. O aplicativo deve buscar os dados das variáveis em uma base de dados pública.\n",
    "\n",
    "3. A busca deve ser realizada por API com o Pandas importando os dados em formato CSV ou realizando webscrapping com BeautifulSoup4 (1,0 ponto extra);\n",
    "\n",
    "4. Caso o download dos dados seja realizado manualmente, não se acrescentam pontos adicionais.\n",
    "\n",
    "5. Dados armazenados em uma base de dados SQLite3 para posterior importação para o Pandas (1,0 ponto extra).\n",
    "\n",
    "6. O aplicativo deverá realizar a análise exploratória dos dados apresentando as estatísticas descritivas, o gráfico das séries coletadas com o Pandas. (1,0 ponto)\n",
    "\n",
    "7. Usando pacote StatsModels o aplicativo deverá realizar o teste ADF nas séries (1,0 ponto)\n",
    "\n",
    "8. Usando o pacote StatsModels, o aplicativo deverá realizar a regressão linear entre as variáveis da base de dados, compreendendo TODA a análise econométrica do modelo de regressão linear clássico, isto é, teste de heterocedasticidade, correlação serial sobre os resíduos. Supõe-se aqui um trabalho econométrico adequado e não apenas que as saídas do código produzido sejam publicadas. Esta análise deverá gerar um relatório escrito. (6,0 pontos).\n",
    "\n",
    "9. Usando pacote StatsModels o aplicativo deverá realizar o teste de cointegração de Johansen nas séries (1,0 ponto)\n",
    "\n",
    "10. O aplicativo deverá salvar os resultados em arquivos (1,0 ponto)\n",
    "\n",
    "11. Se o relatório for escrito usando o Jupyter Notebook de tal forma que o código também esteja embutido no texto (1,0 ponto extra).\n",
    "\n",
    "12. Todos os arquivos gerados bem como código fonte devem ser publicados no github;\n",
    "\n",
    "13. Deve haver pelo menos 2 arquivos no github: o código fonte python; o arquivo com o trabalho escrito em Jupyter Notebook."
   ]
  },
  {
   "cell_type": "markdown",
   "metadata": {},
   "source": [
    "Primeiro passo: importar módulos"
   ]
  },
  {
   "cell_type": "code",
   "execution_count": 57,
   "metadata": {},
   "outputs": [],
   "source": [
    "import pandas\n",
    "import numpy as np\n",
    "import matplotlib.pyplot as plt\n",
    "from statsmodels.tsa.stattools import adfuller\n",
    "import statsmodels.api as sm\n",
    "from statsmodels.stats.diagnostic import het_white\n",
    "from statsmodels.stats.diagnostic import acorr_ljungbox\n",
    "import statsmodels.formula.api as smf\n",
    "import statsmodels.stats.api as sms\n",
    "from statsmodels.compat import lzip"
   ]
  },
  {
   "cell_type": "markdown",
   "metadata": {},
   "source": [
    "3 A busca deve ser realizada por API com o Pandas importando os dados em formato CSV ou realizando webscrapping com BeautifulSoup4 (1,0 ponto extra);\n",
    "\n",
    "baixei essa série para ir testando os códigos do resto do trabalho, não para ser a série definitiva\n",
    "\n",
    "url do BCB para api de csv : https://dadosabertos.bcb.gov.br/dataset/20542-saldo-da-carteira-de-credito-com-recursos-livres---total/resource/42454ae1-fea4-47df-b38a-101d8a62dbed?inner_span=True"
   ]
  },
  {
   "cell_type": "code",
   "execution_count": 8,
   "metadata": {
    "collapsed": true
   },
   "outputs": [],
   "source": [
    "url_serie_PIBaprecosdemercado = 'http://api.bcb.gov.br/dados/serie/bcdata.sgs.22109/dados?formato=csv&dataInicial=01/01/1995&dataFinal=01/01/2018'\n",
    "url_serie_exportacao = 'http://api.bcb.gov.br/dados/serie/bcdata.sgs.22114/dados?formato=csv&dataInicial=01/01/1995&dataFinal=01/01/2018'\n",
    "\n",
    "serie1 = pandas.read_csv(url_serie_PIBaprecosdemercado,sep = \";\", decimal = \",\")\n",
    "serie2 = pandas.read_csv(url_serie_exportacao,sep = \";\", decimal = \",\")"
   ]
  },
  {
   "cell_type": "markdown",
   "metadata": {},
   "source": [
    "Para checar se a série foi lida pelo pandas"
   ]
  },
  {
   "cell_type": "code",
   "execution_count": 9,
   "metadata": {},
   "outputs": [
    {
     "data": {
      "text/html": [
       "<div>\n",
       "<style>\n",
       "    .dataframe thead tr:only-child th {\n",
       "        text-align: right;\n",
       "    }\n",
       "\n",
       "    .dataframe thead th {\n",
       "        text-align: left;\n",
       "    }\n",
       "\n",
       "    .dataframe tbody tr th {\n",
       "        vertical-align: top;\n",
       "    }\n",
       "</style>\n",
       "<table border=\"1\" class=\"dataframe\">\n",
       "  <thead>\n",
       "    <tr style=\"text-align: right;\">\n",
       "      <th></th>\n",
       "      <th>data</th>\n",
       "      <th>valor</th>\n",
       "    </tr>\n",
       "  </thead>\n",
       "  <tbody>\n",
       "    <tr>\n",
       "      <th>0</th>\n",
       "      <td>01/01/1996</td>\n",
       "      <td>100.47</td>\n",
       "    </tr>\n",
       "    <tr>\n",
       "      <th>1</th>\n",
       "      <td>01/04/1996</td>\n",
       "      <td>100.71</td>\n",
       "    </tr>\n",
       "    <tr>\n",
       "      <th>2</th>\n",
       "      <td>01/07/1996</td>\n",
       "      <td>104.31</td>\n",
       "    </tr>\n",
       "    <tr>\n",
       "      <th>3</th>\n",
       "      <td>01/10/1996</td>\n",
       "      <td>103.37</td>\n",
       "    </tr>\n",
       "    <tr>\n",
       "      <th>4</th>\n",
       "      <td>01/01/1997</td>\n",
       "      <td>104.40</td>\n",
       "    </tr>\n",
       "  </tbody>\n",
       "</table>\n",
       "</div>"
      ],
      "text/plain": [
       "         data   valor\n",
       "0  01/01/1996  100.47\n",
       "1  01/04/1996  100.71\n",
       "2  01/07/1996  104.31\n",
       "3  01/10/1996  103.37\n",
       "4  01/01/1997  104.40"
      ]
     },
     "execution_count": 9,
     "metadata": {},
     "output_type": "execute_result"
    }
   ],
   "source": [
    "serie1.head()"
   ]
  },
  {
   "cell_type": "code",
   "execution_count": 10,
   "metadata": {},
   "outputs": [
    {
     "data": {
      "text/html": [
       "<div>\n",
       "<style>\n",
       "    .dataframe thead tr:only-child th {\n",
       "        text-align: right;\n",
       "    }\n",
       "\n",
       "    .dataframe thead th {\n",
       "        text-align: left;\n",
       "    }\n",
       "\n",
       "    .dataframe tbody tr th {\n",
       "        vertical-align: top;\n",
       "    }\n",
       "</style>\n",
       "<table border=\"1\" class=\"dataframe\">\n",
       "  <thead>\n",
       "    <tr style=\"text-align: right;\">\n",
       "      <th></th>\n",
       "      <th>data</th>\n",
       "      <th>valor</th>\n",
       "    </tr>\n",
       "  </thead>\n",
       "  <tbody>\n",
       "    <tr>\n",
       "      <th>0</th>\n",
       "      <td>01/01/1996</td>\n",
       "      <td>98.06</td>\n",
       "    </tr>\n",
       "    <tr>\n",
       "      <th>1</th>\n",
       "      <td>01/04/1996</td>\n",
       "      <td>95.91</td>\n",
       "    </tr>\n",
       "    <tr>\n",
       "      <th>2</th>\n",
       "      <td>01/07/1996</td>\n",
       "      <td>95.61</td>\n",
       "    </tr>\n",
       "    <tr>\n",
       "      <th>3</th>\n",
       "      <td>01/10/1996</td>\n",
       "      <td>100.43</td>\n",
       "    </tr>\n",
       "    <tr>\n",
       "      <th>4</th>\n",
       "      <td>01/01/1997</td>\n",
       "      <td>105.16</td>\n",
       "    </tr>\n",
       "  </tbody>\n",
       "</table>\n",
       "</div>"
      ],
      "text/plain": [
       "         data   valor\n",
       "0  01/01/1996   98.06\n",
       "1  01/04/1996   95.91\n",
       "2  01/07/1996   95.61\n",
       "3  01/10/1996  100.43\n",
       "4  01/01/1997  105.16"
      ]
     },
     "execution_count": 10,
     "metadata": {},
     "output_type": "execute_result"
    }
   ],
   "source": [
    "serie2.head()"
   ]
  },
  {
   "cell_type": "markdown",
   "metadata": {},
   "source": [
    "6 O aplicativo deverá realizar a análise exploratória dos dados apresentando as estatísticas descritivas, o gráfico das séries coletadas com o Pandas. (1,0 ponto)"
   ]
  },
  {
   "cell_type": "markdown",
   "metadata": {},
   "source": [
    "Para mostrar o gráfico da série"
   ]
  },
  {
   "cell_type": "code",
   "execution_count": 11,
   "metadata": {},
   "outputs": [
    {
     "data": {
      "image/png": "[encoded data removed]",
      "text/plain": [
       "<matplotlib.figure.Figure at 0x110635390>"
      ]
     },
     "metadata": {},
     "output_type": "display_data"
    }
   ],
   "source": [
    "plt.plot(serie1.valor)\n",
    "plt.show()"
   ]
  },
  {
   "cell_type": "code",
   "execution_count": 12,
   "metadata": {},
   "outputs": [
    {
     "data": {
      "image/png": "[encoded data removed]",
      "text/plain": [
       "<matplotlib.figure.Figure at 0x11074f390>"
      ]
     },
     "metadata": {},
     "output_type": "display_data"
    }
   ],
   "source": [
    "plt.plot(serie2.valor)\n",
    "plt.show()"
   ]
  },
  {
   "cell_type": "markdown",
   "metadata": {},
   "source": [
    "Para analise descritiva"
   ]
  },
  {
   "cell_type": "code",
   "execution_count": 13,
   "metadata": {
    "scrolled": true
   },
   "outputs": [
    {
     "name": "stdout",
     "output_type": "stream",
     "text": [
      "média PIB= 138.667528\n",
      "desvio padrão PIB = 2.731518\n",
      "média Exportacao= 214.427865\n",
      "desvio padrão Exportacao = 7.114966\n"
     ]
    }
   ],
   "source": [
    "print(\"média PIB= %f\" % serie1.mean())\n",
    "print(\"desvio padrão PIB = %f\" % serie1.sem())\n",
    "print(\"média Exportacao= %f\" % serie2.mean())\n",
    "print(\"desvio padrão Exportacao = %f\" % serie2.sem())"
   ]
  },
  {
   "cell_type": "markdown",
   "metadata": {},
   "source": [
    "7 Usando pacote StatsModels o aplicativo deverá realizar o teste ADF nas séries (1,0 ponto)"
   ]
  },
  {
   "cell_type": "code",
   "execution_count": 14,
   "metadata": {},
   "outputs": [
    {
     "name": "stdout",
     "output_type": "stream",
     "text": [
      "Para PIB\n",
      "ADF Statistic: -1.102723\n",
      "p-value: 0.713985\n",
      "Critical Values:\n",
      "\t1%: -3.508\n",
      "\t5%: -2.895\n",
      "\t10%: -2.585\n",
      "Para Exportacao\n",
      "ADF Statistic: -0.875695\n",
      "p-value: 0.795871\n",
      "Critical Values:\n"
     ]
    },
    {
     "ename": "NameError",
     "evalue": "name 'result' is not defined",
     "output_type": "error",
     "traceback": [
      "\u001b[0;31m---------------------------------------------------------------------------\u001b[0m",
      "\u001b[0;31mNameError\u001b[0m                                 Traceback (most recent call last)",
      "\u001b[0;32m<ipython-input-14-bc7e006bcd2c>\u001b[0m in \u001b[0;36m<module>\u001b[0;34m()\u001b[0m\n\u001b[1;32m     12\u001b[0m \u001b[0mprint\u001b[0m\u001b[0;34m(\u001b[0m\u001b[0;34m'p-value: %f'\u001b[0m \u001b[0;34m%\u001b[0m \u001b[0mresult2\u001b[0m\u001b[0;34m[\u001b[0m\u001b[0;36m1\u001b[0m\u001b[0;34m]\u001b[0m\u001b[0;34m)\u001b[0m\u001b[0;34m\u001b[0m\u001b[0m\n\u001b[1;32m     13\u001b[0m \u001b[0mprint\u001b[0m\u001b[0;34m(\u001b[0m\u001b[0;34m'Critical Values:'\u001b[0m\u001b[0;34m)\u001b[0m\u001b[0;34m\u001b[0m\u001b[0m\n\u001b[0;32m---> 14\u001b[0;31m \u001b[0;32mfor\u001b[0m \u001b[0mkey\u001b[0m\u001b[0;34m,\u001b[0m \u001b[0mvalue\u001b[0m \u001b[0;32min\u001b[0m \u001b[0mresult\u001b[0m\u001b[0;34m[\u001b[0m\u001b[0;36m4\u001b[0m\u001b[0;34m]\u001b[0m\u001b[0;34m.\u001b[0m\u001b[0mitems\u001b[0m\u001b[0;34m(\u001b[0m\u001b[0;34m)\u001b[0m\u001b[0;34m:\u001b[0m\u001b[0;34m\u001b[0m\u001b[0m\n\u001b[0m\u001b[1;32m     15\u001b[0m         \u001b[0mprint\u001b[0m\u001b[0;34m(\u001b[0m\u001b[0;34m'\\t%s: %.3f'\u001b[0m \u001b[0;34m%\u001b[0m \u001b[0;34m(\u001b[0m\u001b[0mkey\u001b[0m\u001b[0;34m,\u001b[0m \u001b[0mvalue\u001b[0m\u001b[0;34m)\u001b[0m\u001b[0;34m)\u001b[0m\u001b[0;34m\u001b[0m\u001b[0m\n",
      "\u001b[0;31mNameError\u001b[0m: name 'result' is not defined"
     ]
    }
   ],
   "source": [
    "print(\"Para PIB\")\n",
    "result1 = adfuller(serie1.valor)\n",
    "print('ADF Statistic: %f' % result1[0])\n",
    "print('p-value: %f' % result1[1])\n",
    "print('Critical Values:')\n",
    "for key, value in result1[4].items():\n",
    "\tprint('\\t%s: %.3f' % (key, value))\n",
    "    \n",
    "print(\"Para Exportacao\")\n",
    "result2 = adfuller(serie2.valor)\n",
    "print('ADF Statistic: %f' % result2[0])\n",
    "print('p-value: %f' % result2[1])\n",
    "print('Critical Values:')\n",
    "for key, value in result[4].items():\n",
    "\tprint('\\t%s: %.3f' % (key, value))"
   ]
  },
  {
   "cell_type": "markdown",
   "metadata": {},
   "source": [
    "8 Usando o pacote StatsModels, o aplicativo deverá realizar a regressão linear entre as variáveis da base de dados, compreendendo TODA a análise econométrica do modelo de regressão linear clássico, isto é, teste de heterocedasticidade, correlação serial sobre os resíduos. Supõe-se aqui um trabalho econométrico adequado e não apenas que as saídas do código produzido sejam publicadas. Esta análise deverá gerar um relatório escrito. (6,0 pontos)."
   ]
  },
  {
   "cell_type": "markdown",
   "metadata": {},
   "source": [
    "regressão linear"
   ]
  },
  {
   "cell_type": "code",
   "execution_count": 15,
   "metadata": {},
   "outputs": [],
   "source": [
    "a = np.array(serie1.valor)\n",
    "b= np.array(serie2.valor)"
   ]
  },
  {
   "cell_type": "code",
   "execution_count": 55,
   "metadata": {},
   "outputs": [
    {
     "name": "stdout",
     "output_type": "stream",
     "text": [
      "                            OLS Regression Results                            \n",
      "==============================================================================\n",
      "Dep. Variable:                      y   R-squared:                       0.979\n",
      "Model:                            OLS   Adj. R-squared:                  0.979\n",
      "Method:                 Least Squares   F-statistic:                     4176.\n",
      "Date:                Wed, 11 Jul 2018   Prob (F-statistic):           6.02e-76\n",
      "Time:                        21:37:29   Log-Likelihood:                -394.05\n",
      "No. Observations:                  89   AIC:                             790.1\n",
      "Df Residuals:                      88   BIC:                             792.6\n",
      "Df Model:                           1                                         \n",
      "Covariance Type:            nonrobust                                         \n",
      "==============================================================================\n",
      "                 coef    std err          t      P>|t|      [0.025      0.975]\n",
      "------------------------------------------------------------------------------\n",
      "x1             0.6214      0.010     64.619      0.000       0.602       0.641\n",
      "==============================================================================\n",
      "Omnibus:                        4.630   Durbin-Watson:                   0.078\n",
      "Prob(Omnibus):                  0.099   Jarque-Bera (JB):                2.705\n",
      "Skew:                           0.207   Prob(JB):                        0.259\n",
      "Kurtosis:                       2.253   Cond. No.                         1.00\n",
      "==============================================================================\n",
      "\n",
      "Warnings:\n",
      "[1] Standard Errors assume that the covariance matrix of the errors is correctly specified.\n"
     ]
    }
   ],
   "source": [
    "model = sm.OLS(a, b)\n",
    "results = model.fit()\n",
    "print(results.summary())"
   ]
  },
  {
   "cell_type": "markdown",
   "metadata": {},
   "source": [
    "teste de heterocedasticidade, correlação serial sobre os resíduos"
   ]
  },
  {
   "cell_type": "markdown",
   "metadata": {},
   "source": [
    "normalidade dos residuos"
   ]
  },
  {
   "cell_type": "code",
   "execution_count": 58,
   "metadata": {},
   "outputs": [
    {
     "data": {
      "text/plain": [
       "[('Jarque-Bera', 2.7054088609383706),\n",
       " ('Chi^2 two-tail prob.', 0.25854011056650322),\n",
       " ('Skew', 0.2068491250526883),\n",
       " ('Kurtosis', 2.2527368504054235)]"
      ]
     },
     "execution_count": 58,
     "metadata": {},
     "output_type": "execute_result"
    }
   ],
   "source": [
    "name = ['Jarque-Bera', 'Chi^2 two-tail prob.', 'Skew', 'Kurtosis']\n",
    "test = sms.jarque_bera(results.resid)\n",
    "lzip(name, test)"
   ]
  },
  {
   "cell_type": "markdown",
   "metadata": {},
   "source": [
    "heterocedasticidade"
   ]
  },
  {
   "cell_type": "code",
   "execution_count": 60,
   "metadata": {},
   "outputs": [
    {
     "name": "stderr",
     "output_type": "stream",
     "text": [
      "/Users/bernardopaulsen/anaconda3/lib/python3.6/site-packages/ipykernel_launcher.py:3: DeprecationWarning: `het_breushpagan` is deprecated, use `het_breuschpagan` instead!\n",
      "Use het_breuschpagan, het_breushpagan will be removed in 0.9 \n",
      "(Note: misspelling missing 'c')\n",
      "  This is separate from the ipykernel package so we can avoid doing imports until\n"
     ]
    },
    {
     "data": {
      "text/plain": [
       "[('Lagrange multiplier statistic', 18.399872245211562),\n",
       " ('p-value', nan),\n",
       " ('f-value', 22.934643449973024),\n",
       " ('f p-value', 6.7318854826007017e-06)]"
      ]
     },
     "execution_count": 60,
     "metadata": {},
     "output_type": "execute_result"
    }
   ],
   "source": [
    "name = ['Lagrange multiplier statistic', 'p-value', \n",
    "        'f-value', 'f p-value']\n",
    "test = sms.het_breushpagan(results.resid, results.model.exog)\n",
    "lzip(name, test)"
   ]
  },
  {
   "cell_type": "markdown",
   "metadata": {},
   "source": [
    "abaixo tentei fazer teste\n",
    "\n",
    "um site que pode ajudar: http://www.statsmodels.org/dev/examples/notebooks/generated/regression_diagnostics.html"
   ]
  },
  {
   "cell_type": "code",
   "execution_count": 49,
   "metadata": {},
   "outputs": [
    {
     "ename": "AttributeError",
     "evalue": "'tuple' object has no attribute 'lbvalue'",
     "output_type": "error",
     "traceback": [
      "\u001b[0;31m---------------------------------------------------------------------------\u001b[0m",
      "\u001b[0;31mAttributeError\u001b[0m                            Traceback (most recent call last)",
      "\u001b[0;32m<ipython-input-49-ced0a89c6c54>\u001b[0m in \u001b[0;36m<module>\u001b[0;34m()\u001b[0m\n\u001b[1;32m      5\u001b[0m \u001b[0mtest\u001b[0m \u001b[0;34m=\u001b[0m \u001b[0macorr_ljungbox\u001b[0m\u001b[0;34m(\u001b[0m\u001b[0mres\u001b[0m\u001b[0;34m)\u001b[0m\u001b[0;34m\u001b[0m\u001b[0m\n\u001b[1;32m      6\u001b[0m \u001b[0;34m\u001b[0m\u001b[0m\n\u001b[0;32m----> 7\u001b[0;31m \u001b[0mprint\u001b[0m\u001b[0;34m(\u001b[0m\u001b[0mtest\u001b[0m\u001b[0;34m.\u001b[0m\u001b[0mlbvalue\u001b[0m\u001b[0;34m)\u001b[0m\u001b[0;34m\u001b[0m\u001b[0m\n\u001b[0m",
      "\u001b[0;31mAttributeError\u001b[0m: 'tuple' object has no attribute 'lbvalue'"
     ]
    }
   ],
   "source": [
    "predictedValues = results.predict()\n",
    "yData = a\n",
    "res = yData - predictedValues\n",
    "\n",
    "test = acorr_ljungbox(res)\n",
    "\n",
    "print(test.lbvalue)"
   ]
  },
  {
   "cell_type": "markdown",
   "metadata": {},
   "source": [
    "modelo ols"
   ]
  },
  {
   "cell_type": "code",
   "execution_count": 61,
   "metadata": {},
   "outputs": [
    {
     "name": "stdout",
     "output_type": "stream",
     "text": [
      "                            OLS Regression Results                            \n",
      "==============================================================================\n",
      "Dep. Variable:                      y   R-squared:                       0.979\n",
      "Model:                            OLS   Adj. R-squared:                  0.979\n",
      "Method:                 Least Squares   F-statistic:                     4176.\n",
      "Date:                Wed, 11 Jul 2018   Prob (F-statistic):           6.02e-76\n",
      "Time:                        21:46:39   Log-Likelihood:                -394.05\n",
      "No. Observations:                  89   AIC:                             790.1\n",
      "Df Residuals:                      88   BIC:                             792.6\n",
      "Df Model:                           1                                         \n",
      "Covariance Type:            nonrobust                                         \n",
      "==============================================================================\n",
      "                 coef    std err          t      P>|t|      [0.025      0.975]\n",
      "------------------------------------------------------------------------------\n",
      "x1             0.6214      0.010     64.619      0.000       0.602       0.641\n",
      "==============================================================================\n",
      "Omnibus:                        4.630   Durbin-Watson:                   0.078\n",
      "Prob(Omnibus):                  0.099   Jarque-Bera (JB):                2.705\n",
      "Skew:                           0.207   Prob(JB):                        0.259\n",
      "Kurtosis:                       2.253   Cond. No.                         1.00\n",
      "==============================================================================\n",
      "\n",
      "Warnings:\n",
      "[1] Standard Errors assume that the covariance matrix of the errors is correctly specified.\n"
     ]
    }
   ],
   "source": [
    "results = smf.OLS(a,b).fit()\n",
    "print(results.summary())"
   ]
  },
  {
   "cell_type": "markdown",
   "metadata": {},
   "source": [
    "teste de heterocedasticidade"
   ]
  },
  {
   "cell_type": "code",
   "execution_count": 63,
   "metadata": {},
   "outputs": [
    {
     "name": "stderr",
     "output_type": "stream",
     "text": [
      "/Users/bernardopaulsen/anaconda3/lib/python3.6/site-packages/ipykernel_launcher.py:6: DeprecationWarning: `het_breushpagan` is deprecated, use `het_breuschpagan` instead!\n",
      "Use het_breuschpagan, het_breushpagan will be removed in 0.9 \n",
      "(Note: misspelling missing 'c')\n",
      "  \n"
     ]
    },
    {
     "data": {
      "text/html": [
       "<div>\n",
       "<style>\n",
       "    .dataframe thead tr:only-child th {\n",
       "        text-align: right;\n",
       "    }\n",
       "\n",
       "    .dataframe thead th {\n",
       "        text-align: left;\n",
       "    }\n",
       "\n",
       "    .dataframe tbody tr th {\n",
       "        vertical-align: top;\n",
       "    }\n",
       "</style>\n",
       "<table border=\"1\" class=\"dataframe\">\n",
       "  <thead>\n",
       "    <tr style=\"text-align: right;\">\n",
       "      <th></th>\n",
       "      <th>0</th>\n",
       "    </tr>\n",
       "  </thead>\n",
       "  <tbody>\n",
       "    <tr>\n",
       "      <th>18.399872</th>\n",
       "      <td>Lagrange multiplier statistic</td>\n",
       "    </tr>\n",
       "    <tr>\n",
       "      <th>NaN</th>\n",
       "      <td>p-value</td>\n",
       "    </tr>\n",
       "    <tr>\n",
       "      <th>22.934643</th>\n",
       "      <td>f-value</td>\n",
       "    </tr>\n",
       "    <tr>\n",
       "      <th>0.000007</th>\n",
       "      <td>f p-value</td>\n",
       "    </tr>\n",
       "  </tbody>\n",
       "</table>\n",
       "</div>"
      ],
      "text/plain": [
       "                                        0\n",
       " 18.399872  Lagrange multiplier statistic\n",
       "NaN                               p-value\n",
       " 22.934643                        f-value\n",
       " 0.000007                       f p-value"
      ]
     },
     "execution_count": 63,
     "metadata": {},
     "output_type": "execute_result"
    }
   ],
   "source": [
    "import statsmodels\n",
    "import pandas as pd\n",
    "\n",
    "name = ['Lagrange multiplier statistic', 'p-value', \n",
    "        'f-value', 'f p-value']\n",
    "bp = statsmodels.stats.diagnostic.het_breushpagan(results.resid, results.model.exog)\n",
    "bp\n",
    "pd.DataFrame(name,bp)"
   ]
  },
  {
   "cell_type": "markdown",
   "metadata": {},
   "source": [
    "teste de autocorrelacao"
   ]
  },
  {
   "cell_type": "code",
   "execution_count": 71,
   "metadata": {},
   "outputs": [
    {
     "ename": "AttributeError",
     "evalue": "'tuple' object has no attribute 'pvalue'",
     "output_type": "error",
     "traceback": [
      "\u001b[0;31m---------------------------------------------------------------------------\u001b[0m",
      "\u001b[0;31mAttributeError\u001b[0m                            Traceback (most recent call last)",
      "\u001b[0;32m<ipython-input-71-bf35bca56ccb>\u001b[0m in \u001b[0;36m<module>\u001b[0;34m()\u001b[0m\n\u001b[0;32m----> 1\u001b[0;31m \u001b[0mtest\u001b[0m \u001b[0;34m=\u001b[0m \u001b[0mstatsmodels\u001b[0m\u001b[0;34m.\u001b[0m\u001b[0mstats\u001b[0m\u001b[0;34m.\u001b[0m\u001b[0mdiagnostic\u001b[0m\u001b[0;34m.\u001b[0m\u001b[0macorr_ljungbox\u001b[0m\u001b[0;34m(\u001b[0m\u001b[0mresults\u001b[0m\u001b[0;34m.\u001b[0m\u001b[0mresid\u001b[0m\u001b[0;34m)\u001b[0m\u001b[0;34m.\u001b[0m\u001b[0mpvalue\u001b[0m\u001b[0;34m\u001b[0m\u001b[0m\n\u001b[0m\u001b[1;32m      2\u001b[0m \u001b[0mprint\u001b[0m\u001b[0;34m(\u001b[0m\u001b[0mtest\u001b[0m\u001b[0;34m)\u001b[0m\u001b[0;34m\u001b[0m\u001b[0m\n",
      "\u001b[0;31mAttributeError\u001b[0m: 'tuple' object has no attribute 'pvalue'"
     ]
    }
   ],
   "source": [
    "test = statsmodels.stats.diagnostic.acorr_ljungbox(results.resid).pvalue\n",
    "print(test)"
   ]
  }
 ],
 "metadata": {
  "kernelspec": {
   "display_name": "Python 3",
   "language": "python",
   "name": "python3"
  },
  "language_info": {
   "codemirror_mode": {
    "name": "ipython",
    "version": 3
   },
   "file_extension": ".py",
   "mimetype": "text/x-python",
   "name": "python",
   "nbconvert_exporter": "python",
   "pygments_lexer": "ipython3",
   "version": "3.6.3"
  }
 },
 "nbformat": 4,
 "nbformat_minor": 2
}
